{
 "cells": [
  {
   "cell_type": "code",
   "execution_count": 35,
   "metadata": {},
   "outputs": [],
   "source": [
    "from bs4 import BeautifulSoup\n",
    "import pandas as pd\n",
    "import numpy as np"
   ]
  },
  {
   "cell_type": "code",
   "execution_count": 4,
   "metadata": {},
   "outputs": [],
   "source": [
    "import requests\n",
    "import time\n",
    "import json"
   ]
  },
  {
   "cell_type": "code",
   "execution_count": 83,
   "metadata": {},
   "outputs": [],
   "source": [
    "canada = pd.read_html(r'https://en.wikipedia.org/wiki/List_of_postal_codes_of_Canada:_M',header =0, flavor = 'bs4')"
   ]
  },
  {
   "cell_type": "code",
   "execution_count": 84,
   "metadata": {},
   "outputs": [],
   "source": [
    "cn_table=canada[0]"
   ]
  },
  {
   "cell_type": "code",
   "execution_count": 85,
   "metadata": {},
   "outputs": [],
   "source": [
    "cn_table.replace('Not assigned',np.nan, inplace=True) "
   ]
  },
  {
   "cell_type": "code",
   "execution_count": 100,
   "metadata": {},
   "outputs": [],
   "source": [
    "cnn=cn_table.dropna(thresh=2)"
   ]
  },
  {
   "cell_type": "code",
   "execution_count": 106,
   "metadata": {},
   "outputs": [],
   "source": [
    "cnn=cnn.fillna(method=\"ffill\", limit=2, axis=1)"
   ]
  },
  {
   "cell_type": "code",
   "execution_count": 107,
   "metadata": {},
   "outputs": [],
   "source": [
    "df = pd.DataFrame(cnn,columns=['Neighbourhood'])"
   ]
  },
  {
   "cell_type": "code",
   "execution_count": 95,
   "metadata": {},
   "outputs": [
    {
     "data": {
      "text/plain": [
       "Postcode  Borough         \n",
       "M1B       Scarborough                                          [Rouge, Malvern]\n",
       "M1C       Scarborough                  [Highland Creek, Rouge Hill, Port Union]\n",
       "M1E       Scarborough                       [Guildwood, Morningside, West Hill]\n",
       "M1G       Scarborough                                                  [Woburn]\n",
       "M1H       Scarborough                                               [Cedarbrae]\n",
       "M1J       Scarborough                                     [Scarborough Village]\n",
       "M1K       Scarborough             [East Birchmount Park, Ionview, Kennedy Park]\n",
       "M1L       Scarborough                         [Clairlea, Golden Mile, Oakridge]\n",
       "M1M       Scarborough         [Cliffcrest, Cliffside, Scarborough Village West]\n",
       "M1N       Scarborough                             [Birch Cliff, Cliffside West]\n",
       "M1P       Scarborough         [Dorset Park, Scarborough Town Centre, Wexford...\n",
       "M1R       Scarborough                                       [Maryvale, Wexford]\n",
       "M1S       Scarborough                                               [Agincourt]\n",
       "M1T       Scarborough                 [Clarks Corners, Sullivan, Tam O'Shanter]\n",
       "M1V       Scarborough         [Agincourt North, L'Amoreaux East, Milliken, S...\n",
       "M1W       Scarborough                                         [L'Amoreaux West]\n",
       "M1X       Scarborough                                             [Upper Rouge]\n",
       "M2H       North York                                        [Hillcrest Village]\n",
       "M2J       North York                             [Fairview, Henry Farm, Oriole]\n",
       "M2K       North York                                          [Bayview Village]\n",
       "M2L       North York                                 [Silver Hills, York Mills]\n",
       "M2M       North York                                  [Newtonbrook, Willowdale]\n",
       "M2N       North York                                         [Willowdale South]\n",
       "M2P       North York                                          [York Mills West]\n",
       "M2R       North York                                          [Willowdale West]\n",
       "M3A       North York                                                [Parkwoods]\n",
       "M3B       North York                                          [Don Mills North]\n",
       "M3C       North York                         [Flemingdon Park, Don Mills South]\n",
       "M3H       North York          [Bathurst Manor, Downsview North, Wilson Heights]\n",
       "M3J       North York                          [Northwood Park, York University]\n",
       "                                                    ...                        \n",
       "M6C       York                                             [Humewood-Cedarvale]\n",
       "M6E       York                                            [Caledonia-Fairbanks]\n",
       "M6G       Downtown Toronto                                           [Christie]\n",
       "M6H       West Toronto                           [Dovercourt Village, Dufferin]\n",
       "M6J       West Toronto                               [Little Portugal, Trinity]\n",
       "M6K       West Toronto           [Brockton, Exhibition Place, Parkdale Village]\n",
       "M6L       North York                       [Downsview, North Park, Upwood Park]\n",
       "M6M       York                 [Del Ray, Keelesdale, Mount Dennis, Silverthorn]\n",
       "M6N       York                                  [The Junction North, Runnymede]\n",
       "M6P       West Toronto                          [High Park, The Junction South]\n",
       "M6R       West Toronto                                 [Parkdale, Roncesvalles]\n",
       "M6S       West Toronto                                     [Runnymede, Swansea]\n",
       "M7A       Queen's Park                                                    [nan]\n",
       "M7R       Mississauga                   [Canada Post Gateway Processing Centre]\n",
       "M7Y       East Toronto        [Business Reply Mail Processing Centre 969 Eas...\n",
       "M8V       Etobicoke              [Humber Bay Shores, Mimico South, New Toronto]\n",
       "M8W       Etobicoke                                    [Alderwood, Long Branch]\n",
       "M8X       Etobicoke             [The Kingsway, Montgomery Road, Old Mill North]\n",
       "M8Y       Etobicoke           [Humber Bay, King's Mill Park, Kingsway Park S...\n",
       "M8Z       Etobicoke           [Kingsway Park South West, Mimico NW, The Quee...\n",
       "M9A       Etobicoke                                          [Islington Avenue]\n",
       "M9B       Etobicoke           [Cloverdale, Islington, Martin Grove, Princess...\n",
       "M9C       Etobicoke           [Bloordale Gardens, Eringate, Markland Wood, O...\n",
       "M9L       North York                                            [Humber Summit]\n",
       "M9M       North York                                         [Emery, Humberlea]\n",
       "M9N       York                                                         [Weston]\n",
       "M9P       Etobicoke                                                 [Westmount]\n",
       "M9R       Etobicoke           [Kingsview Village, Martin Grove Gardens, Rich...\n",
       "M9V       Etobicoke           [Albion Gardens, Beaumond Heights, Humbergate,...\n",
       "M9W       Etobicoke                                                 [Northwest]\n",
       "Name: Neighbourhood, Length: 103, dtype: object"
      ]
     },
     "execution_count": 95,
     "metadata": {},
     "output_type": "execute_result"
    }
   ],
   "source": [
    "cnn=cn_table.groupby(['Postcode','Borough'])['Neighbourhood'].apply(list)\n",
    "cnn"
   ]
  },
  {
   "cell_type": "code",
   "execution_count": 108,
   "metadata": {},
   "outputs": [],
   "source": [
    "data=DataFrame(cnn)"
   ]
  },
  {
   "cell_type": "code",
   "execution_count": 109,
   "metadata": {},
   "outputs": [],
   "source": [
    "from pandas.core.frame import DataFrame"
   ]
  },
  {
   "cell_type": "code",
   "execution_count": 114,
   "metadata": {},
   "outputs": [
    {
     "data": {
      "text/html": [
       "<div>\n",
       "<style scoped>\n",
       "    .dataframe tbody tr th:only-of-type {\n",
       "        vertical-align: middle;\n",
       "    }\n",
       "\n",
       "    .dataframe tbody tr th {\n",
       "        vertical-align: top;\n",
       "    }\n",
       "\n",
       "    .dataframe thead th {\n",
       "        text-align: right;\n",
       "    }\n",
       "</style>\n",
       "<table border=\"1\" class=\"dataframe\">\n",
       "  <thead>\n",
       "    <tr style=\"text-align: right;\">\n",
       "      <th></th>\n",
       "      <th>Postcode</th>\n",
       "      <th>Borough</th>\n",
       "      <th>Neighbourhood</th>\n",
       "    </tr>\n",
       "  </thead>\n",
       "  <tbody>\n",
       "    <tr>\n",
       "      <th>0</th>\n",
       "      <td>M3A</td>\n",
       "      <td>North York</td>\n",
       "      <td>Parkwoods</td>\n",
       "    </tr>\n",
       "    <tr>\n",
       "      <th>1</th>\n",
       "      <td>M4A</td>\n",
       "      <td>North York</td>\n",
       "      <td>Victoria Village</td>\n",
       "    </tr>\n",
       "    <tr>\n",
       "      <th>2</th>\n",
       "      <td>M5A</td>\n",
       "      <td>Downtown Toronto</td>\n",
       "      <td>Harbourfront</td>\n",
       "    </tr>\n",
       "    <tr>\n",
       "      <th>3</th>\n",
       "      <td>M5A</td>\n",
       "      <td>Downtown Toronto</td>\n",
       "      <td>Regent Park</td>\n",
       "    </tr>\n",
       "    <tr>\n",
       "      <th>4</th>\n",
       "      <td>M6A</td>\n",
       "      <td>North York</td>\n",
       "      <td>Lawrence Heights</td>\n",
       "    </tr>\n",
       "    <tr>\n",
       "      <th>5</th>\n",
       "      <td>M6A</td>\n",
       "      <td>North York</td>\n",
       "      <td>Lawrence Manor</td>\n",
       "    </tr>\n",
       "    <tr>\n",
       "      <th>6</th>\n",
       "      <td>M7A</td>\n",
       "      <td>Queen's Park</td>\n",
       "      <td>Queen's Park</td>\n",
       "    </tr>\n",
       "    <tr>\n",
       "      <th>7</th>\n",
       "      <td>M9A</td>\n",
       "      <td>Etobicoke</td>\n",
       "      <td>Islington Avenue</td>\n",
       "    </tr>\n",
       "    <tr>\n",
       "      <th>8</th>\n",
       "      <td>M1B</td>\n",
       "      <td>Scarborough</td>\n",
       "      <td>Rouge</td>\n",
       "    </tr>\n",
       "    <tr>\n",
       "      <th>9</th>\n",
       "      <td>M1B</td>\n",
       "      <td>Scarborough</td>\n",
       "      <td>Malvern</td>\n",
       "    </tr>\n",
       "  </tbody>\n",
       "</table>\n",
       "</div>"
      ],
      "text/plain": [
       "  Postcode           Borough     Neighbourhood\n",
       "0      M3A        North York         Parkwoods\n",
       "1      M4A        North York  Victoria Village\n",
       "2      M5A  Downtown Toronto      Harbourfront\n",
       "3      M5A  Downtown Toronto       Regent Park\n",
       "4      M6A        North York  Lawrence Heights\n",
       "5      M6A        North York    Lawrence Manor\n",
       "6      M7A      Queen's Park      Queen's Park\n",
       "7      M9A         Etobicoke  Islington Avenue\n",
       "8      M1B       Scarborough             Rouge\n",
       "9      M1B       Scarborough           Malvern"
      ]
     },
     "execution_count": 114,
     "metadata": {},
     "output_type": "execute_result"
    }
   ],
   "source": [
    "data=data.reset_index(drop=True)\n",
    "data.head(10)"
   ]
  },
  {
   "cell_type": "code",
   "execution_count": 113,
   "metadata": {},
   "outputs": [
    {
     "data": {
      "text/plain": [
       "(211, 3)"
      ]
     },
     "execution_count": 113,
     "metadata": {},
     "output_type": "execute_result"
    }
   ],
   "source": [
    "data.shape"
   ]
  }
 ],
 "metadata": {
  "kernelspec": {
   "display_name": "Python 3",
   "language": "python",
   "name": "python3"
  },
  "language_info": {
   "codemirror_mode": {
    "name": "ipython",
    "version": 3
   },
   "file_extension": ".py",
   "mimetype": "text/x-python",
   "name": "python",
   "nbconvert_exporter": "python",
   "pygments_lexer": "ipython3",
   "version": "3.6.8"
  }
 },
 "nbformat": 4,
 "nbformat_minor": 2
}
